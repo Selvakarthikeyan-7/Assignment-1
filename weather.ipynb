{
 "cells": [
  {
   "cell_type": "code",
   "execution_count": 1,
   "id": "e3671b3d",
   "metadata": {},
   "outputs": [
    {
     "name": "stdout",
     "output_type": "stream",
     "text": [
      "Requirement already satisfied: requests in c:\\users\\selva karthikeyan\\anaconda3\\lib\\site-packages (2.28.1)\n",
      "Requirement already satisfied: charset-normalizer<3,>=2 in c:\\users\\selva karthikeyan\\anaconda3\\lib\\site-packages (from requests) (2.0.4)\n",
      "Requirement already satisfied: idna<4,>=2.5 in c:\\users\\selva karthikeyan\\anaconda3\\lib\\site-packages (from requests) (3.3)\n",
      "Requirement already satisfied: urllib3<1.27,>=1.21.1 in c:\\users\\selva karthikeyan\\anaconda3\\lib\\site-packages (from requests) (1.26.11)\n",
      "Requirement already satisfied: certifi>=2017.4.17 in c:\\users\\selva karthikeyan\\anaconda3\\lib\\site-packages (from requests) (2022.9.14)\n",
      "Note: you may need to restart the kernel to use updated packages.\n"
     ]
    }
   ],
   "source": [
    "pip install requests\n"
   ]
  },
  {
   "cell_type": "code",
   "execution_count": null,
   "id": "6bb59edc",
   "metadata": {},
   "outputs": [],
   "source": [
    "import requests\n",
    "\n",
    "API_KEY = 'API_KEY'\n",
    "BASE_URL = 'http://api.openweathermap.org/data/2.5/forecast'\n",
    "LOCATION = 'London,uk'\n",
    "\n",
    "def get_weather_data(date):\n",
    "    url = f\"{BASE_URL}?q={LOCATION}&appid={API_KEY}\"\n",
    "    response = requests.get(url)\n",
    "    data = response.json()\n",
    "\n",
    "    for item in data['list']:\n",
    "        dt_txt = item['dt_txt'].split()[0]\n",
    "        if dt_txt == date:\n",
    "            return item['main']['temp']\n",
    "    return None\n",
    "\n",
    "def get_wind_speed_data(date):\n",
    "    url = f\"{BASE_URL}?q={LOCATION}&appid={API_KEY}\"\n",
    "    response = requests.get(url)\n",
    "    data = response.json()\n",
    "\n",
    "    for item in data['list']:\n",
    "        dt_txt = item['dt_txt'].split()[0]\n",
    "        if dt_txt == date:\n",
    "            return item['wind']['speed']\n",
    "    return None\n",
    "\n",
    "def get_pressure_data(date):\n",
    "    url = f\"{BASE_URL}?q={LOCATION}&appid={API_KEY}\"\n",
    "    response = requests.get(url)\n",
    "    data = response.json()\n",
    "\n",
    "    for item in data['list']:\n",
    "        dt_txt = item['dt_txt'].split()[0]\n",
    "        if dt_txt == date:\n",
    "            return item['main']['pressure']\n",
    "    return None\n",
    "\n",
    "def main():\n",
    "    while True:\n",
    "        print(\"\\nOptions:\")\n",
    "        print(\"1. Get weather\")\n",
    "        print(\"2. Get Wind Speed\")\n",
    "        print(\"3. Get Pressure\")\n",
    "        print(\"0. Exit\")\n",
    "\n",
    "        option = int(input(\"Enter your choice: \"))\n",
    "\n",
    "        if option == 0:\n",
    "            print(\"Exiting the program.\")\n",
    "            break\n",
    "        elif option == 1:\n",
    "            date = input(\"Enter the date (YYYY-MM-DD): \")\n",
    "            temp = get_weather_data(date)\n",
    "            if temp is not None:\n",
    "                print(f\"The temperature on {date} is {temp:.2f} °C\")\n",
    "            else:\n",
    "                print(\"Data not available for the given date.\")\n",
    "        elif option == 2:\n",
    "            date = input(\"Enter the date (YYYY-MM-DD): \")\n",
    "            wind_speed = get_wind_speed_data(date)\n",
    "            if wind_speed is not None:\n",
    "                print(f\"The wind speed on {date} is {wind_speed} m/s\")\n",
    "            else:\n",
    "                print(\"Data not available for the given date.\")\n",
    "        elif option == 3:\n",
    "            date = input(\"Enter the date (YYYY-MM-DD): \")\n",
    "            pressure = get_pressure_data(date)\n",
    "            if pressure is not None:\n",
    "                print(f\"The pressure on {date} is {pressure} hPa\")\n",
    "            else:\n",
    "                print(\"Data not available for the given date.\")\n",
    "        else:\n",
    "            print(\"Invalid option. Please try again.\")\n",
    "\n",
    "if __name__ == \"__main__\":\n",
    "    main()\n"
   ]
  }
 ],
 "metadata": {
  "kernelspec": {
   "display_name": "Python 3 (ipykernel)",
   "language": "python",
   "name": "python3"
  },
  "language_info": {
   "codemirror_mode": {
    "name": "ipython",
    "version": 3
   },
   "file_extension": ".py",
   "mimetype": "text/x-python",
   "name": "python",
   "nbconvert_exporter": "python",
   "pygments_lexer": "ipython3",
   "version": "3.9.13"
  }
 },
 "nbformat": 4,
 "nbformat_minor": 5
}
